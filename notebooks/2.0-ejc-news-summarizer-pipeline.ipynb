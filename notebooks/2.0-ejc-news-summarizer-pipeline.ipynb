{
 "cells": [
  {
   "cell_type": "markdown",
   "metadata": {},
   "source": [
    "# **News scraper + summarizer + sender** \n",
    "\n",
    "This notebook will send Newsletter of latest PH news in Gmail and summarized using simple LLM"
   ]
  },
  {
   "cell_type": "code",
   "execution_count": 1,
   "metadata": {},
   "outputs": [],
   "source": [
    "# pip freeze"
   ]
  },
  {
   "cell_type": "code",
   "execution_count": 20,
   "metadata": {},
   "outputs": [],
   "source": [
    "import random\n",
    "import time\n",
    "import warnings\n",
    "from datetime import date, datetime, timedelta\n",
    "\n",
    "import requests\n",
    "from bs4 import BeautifulSoup"
   ]
  },
  {
   "cell_type": "markdown",
   "metadata": {},
   "source": [
    "## **I. Webscrape a News site**\n",
    "\n",
    "- **POC ver**: Focus only on 1st page of Inquirer's \"Nation\" section\n",
    "- **Next steps**:\n",
    "  1. Add 2nd news website source: CNN Philippines \"News & Buzz\" section has potential\n",
    "  2. Check similarity of news from source 1 vs source 2 with LLM to avoid duplicates: Use vector db?"
   ]
  },
  {
   "cell_type": "markdown",
   "metadata": {},
   "source": [
    "### **A. Inquirer**"
   ]
  },
  {
   "cell_type": "code",
   "execution_count": 21,
   "metadata": {},
   "outputs": [],
   "source": [
    "# URL = \"https://newsinfo.inquirer.net/category/nation\"\n",
    "# page = requests.get(URL).text\n",
    "\n",
    "# page_no=3\n",
    "# URL = f\"https://newsinfo.inquirer.net/category/nation/page/{str(page_no)}\"\n",
    "# page = requests.get(URL).text"
   ]
  },
  {
   "cell_type": "code",
   "execution_count": 22,
   "metadata": {},
   "outputs": [],
   "source": [
    "# soup = BeautifulSoup(page, \"lxml\")"
   ]
  },
  {
   "cell_type": "code",
   "execution_count": 23,
   "metadata": {},
   "outputs": [],
   "source": [
    "# articles = soup.find_all(\"div\", {\"id\": \"ch-ls-box\"})"
   ]
  },
  {
   "cell_type": "markdown",
   "metadata": {},
   "source": [
    "Get all latest news links"
   ]
  },
  {
   "cell_type": "code",
   "execution_count": 24,
   "metadata": {},
   "outputs": [
    {
     "data": {
      "text/plain": [
       "'January 17, 2024'"
      ]
     },
     "execution_count": 24,
     "metadata": {},
     "output_type": "execute_result"
    }
   ],
   "source": [
    "TODAY = date.today()\n",
    "PREV_DATE = TODAY + timedelta(-1)\n",
    "PREV_DATE_STR = PREV_DATE.strftime(\"%B %d, %Y\")\n",
    "\n",
    "## Manual assign\n",
    "PREV_DATE_STR = \"January 17, 2024\"\n",
    "PREV_DATE_STR"
   ]
  },
  {
   "cell_type": "code",
   "execution_count": 38,
   "metadata": {},
   "outputs": [
    {
     "name": "stdout",
     "output_type": "stream",
     "text": [
      "https://newsinfo.inquirer.net/1890758/bir-raises-vat-exemption-cap-for-housing-to-p3-6m January 18, 2024\n",
      "https://newsinfo.inquirer.net/1890756/about-time-transport-groups-say-of-puv-modernization January 18, 2024\n",
      "https://newsinfo.inquirer.net/1890753/bi-probe-exposes-459-foreigners-in-visa-scam January 18, 2024\n",
      "https://newsinfo.inquirer.net/1890751/philhealth-pag-ibig-incomes-still-up-even-with-no-premium-hikes January 18, 2024\n",
      "https://newsinfo.inquirer.net/1890749/pedro-m-calayag-84 January 18, 2024\n",
      "https://newsinfo.inquirer.net/1890744/cha-cha-signature-sheets-start-to-arrive-at-comelec-offices-no-choice-but-to-receive-them January 18, 2024\n",
      "https://newsinfo.inquirer.net/1890739/starbucks-sorry-for-signage-limiting-seniors-discount January 18, 2024\n",
      "https://newsinfo.inquirer.net/1890737/from-house-a-call-to-scrutinize-senates-cha-cha-measure January 18, 2024\n",
      "https://newsinfo.inquirer.net/1890733/shrinkflation-dti-okays-downsizing-of-key-goods January 18, 2024\n",
      "https://newsinfo.inquirer.net/1890240/ca-to-check-credentials-of-171-marcos-appointees January 17, 2024\n",
      "https://newsinfo.inquirer.net/1890238/da-applies-finishing-touches-to-ph-vietnam-rice-deal January 17, 2024\n",
      "https://newsinfo.inquirer.net/1890190/romualdez-on-pwd-vat-exemption-law January 16, 2024\n",
      "https://newsinfo.inquirer.net/1889788/its-going-to-be-a-different-type-of-con-ass-angara-says-on-new-cha-cha-bid January 16, 2024\n",
      "https://newsinfo.inquirer.net/1889682/senate-launches-own-bid-to-amend-constitution January 16, 2024\n",
      "https://newsinfo.inquirer.net/1889709/inquirer-net-tops-ph-news-website-rankings-in-2023 January 16, 2024\n",
      "https://newsinfo.inquirer.net/1889680/romualdez-backs-zubiri-led-resolution-to-tweak-constitution January 16, 2024\n",
      "https://newsinfo.inquirer.net/1889692/british-chamber-cha-cha-to-bring-quicker-reforms January 16, 2024\n",
      "https://newsinfo.inquirer.net/1889687/4-transport-groups-go-to-sc-to-support-puv-modernization January 16, 2024\n",
      "https://newsinfo.inquirer.net/1890242/cops-block-groups-protesting-puv-modernization-program January 17, 2024\n",
      "https://newsinfo.inquirer.net/1890240/ca-to-check-credentials-of-171-marcos-appointees January 17, 2024\n",
      "https://newsinfo.inquirer.net/1890238/da-applies-finishing-touches-to-ph-vietnam-rice-deal January 17, 2024\n",
      "https://newsinfo.inquirer.net/1890190/romualdez-on-pwd-vat-exemption-law January 16, 2024\n",
      "https://newsinfo.inquirer.net/1889788/its-going-to-be-a-different-type-of-con-ass-angara-says-on-new-cha-cha-bid January 16, 2024\n",
      "https://newsinfo.inquirer.net/1889682/senate-launches-own-bid-to-amend-constitution January 16, 2024\n",
      "https://newsinfo.inquirer.net/1889709/inquirer-net-tops-ph-news-website-rankings-in-2023 January 16, 2024\n",
      "https://newsinfo.inquirer.net/1889680/romualdez-backs-zubiri-led-resolution-to-tweak-constitution January 16, 2024\n",
      "https://newsinfo.inquirer.net/1889692/british-chamber-cha-cha-to-bring-quicker-reforms January 16, 2024\n"
     ]
    }
   ],
   "source": [
    "latest_news_links = []\n",
    "\n",
    "for page_no in range(1, 4):\n",
    "    articles = []\n",
    "    attempts = 0\n",
    "    while not articles and attempts < 5:\n",
    "        if page_no == 1:\n",
    "            URL = \"https://newsinfo.inquirer.net/category/nation\"\n",
    "        else:\n",
    "            URL = f\"https://newsinfo.inquirer.net/category/nation/page/{str(page_no)}\"\n",
    "        page = requests.get(URL).text\n",
    "        soup = BeautifulSoup(page, \"lxml\")\n",
    "        articles = soup.find_all(\"div\", {\"id\": \"ch-ls-box\"})\n",
    "        if not articles:\n",
    "            # Add random delay per page retry to avoid bot-behavior\n",
    "            time.sleep(5 + random.randint(0, 5))\n",
    "            attempts += 1\n",
    "\n",
    "    if attempts == 5:\n",
    "        print(f\"Failed to fetch articles from page {page_no} after 5 attempts.\")\n",
    "        continue\n",
    "\n",
    "    for article in articles:\n",
    "        try:\n",
    "            news_link = article.a[\"href\"]\n",
    "            pub_date = article.find(\"div\", {\"id\": \"ch-postdate\"}).span.text\n",
    "            print(news_link, pub_date)\n",
    "            if pub_date == PREV_DATE_STR:\n",
    "                latest_news_links.append(news_link)\n",
    "        except TypeError:  # Skips div tags mainly for styling\n",
    "            pass\n",
    "\n",
    "    # Add random delay per page access to avoid bot-behavior\n",
    "    time.sleep(5 + random.randint(0, 5))\n",
    "    \n",
    "assert latest_news_links, f\"No news from {PREV_DATE_STR} were fetch.\""
   ]
  },
  {
   "cell_type": "code",
   "execution_count": 39,
   "metadata": {},
   "outputs": [
    {
     "data": {
      "text/plain": [
       "['https://newsinfo.inquirer.net/1890240/ca-to-check-credentials-of-171-marcos-appointees',\n",
       " 'https://newsinfo.inquirer.net/1890238/da-applies-finishing-touches-to-ph-vietnam-rice-deal',\n",
       " 'https://newsinfo.inquirer.net/1890242/cops-block-groups-protesting-puv-modernization-program',\n",
       " 'https://newsinfo.inquirer.net/1890240/ca-to-check-credentials-of-171-marcos-appointees',\n",
       " 'https://newsinfo.inquirer.net/1890238/da-applies-finishing-touches-to-ph-vietnam-rice-deal']"
      ]
     },
     "execution_count": 39,
     "metadata": {},
     "output_type": "execute_result"
    }
   ],
   "source": [
    "latest_news_links"
   ]
  },
  {
   "cell_type": "markdown",
   "metadata": {},
   "source": [
    "Extract news content per link:\n",
    "\n",
    "- **NOTE**: This code wont work sometimes due to the strange behavior of the website (when making request). It wont return any html and hence gives null title and content\n",
    "    - Similar problem when getting the latest news link (prev block of code)"
   ]
  },
  {
   "cell_type": "code",
   "execution_count": 40,
   "metadata": {},
   "outputs": [],
   "source": [
    "news_data = []\n",
    "\n",
    "for news_link in latest_news_links:\n",
    "    article_page = requests.get(news_link).text\n",
    "    article_soup = BeautifulSoup(article_page, \"lxml\")\n",
    "\n",
    "    # Get news title\n",
    "    title = article_soup.find(\"h1\", {\"class\": \"entry-title\"}).text\n",
    "    # Get news content\n",
    "    page_body = article_soup.find(\"div\", {\"id\": \"article_content\"})\n",
    "    paragraphs = page_body.find_all(\"p\", {\"class\": \"\"})\n",
    "    content = \"\"\n",
    "    for paragraph in paragraphs:\n",
    "        content += f\"{paragraph.text}\\n \"  # Populate by concatenating each paragraph\n",
    "\n",
    "    # Add to data list\n",
    "    news_data.append({\"Title\": title, \"Content\": content, \"Link\": news_link})"
   ]
  },
  {
   "cell_type": "code",
   "execution_count": 41,
   "metadata": {},
   "outputs": [
    {
     "data": {
      "text/plain": [
       "[{'Title': 'CA to check credentials of 171 Marcos appointees',\n",
       "  'Content': '\\n MANILA, Philippines — A total of 171 presidential appointees, mostly military officials and newly designated Finance Secretary Ralph Recto, will go through the scrutiny of the Commission on Appointments (CA) when Congress resumes session on Jan. 22.\\n CA Assistant Minority Leader and Surigao del Sur Rep. Johnny Pimentel encouraged the public on Tuesday to formally inform the body of their opposition to or complaint against any of the appointees scheduled for confirmation. Any information, written report, sworn and notarized complaints, or opposition should be submitted to the CA secretariat, he added.\\n “The CA has already received the appointment papers of Secretary Recto, along with the nomination papers of two ambassadors and the promotion papers of 168 senior military officers,” Pimentel said in a statement.\\n The two diplomats are Flerida Ann Camille Mayo, the Philippine ambassador to Cambodia, and Edgar Tomas Auxilian, the Philippine ambassador to Papua New Guinea with concurrent jurisdiction over Kiribati and the Solomon Islands.\\n Among the 168 military officials up for confirmation are Army Maj. Generals Leodevic Guinid, Allan Hambala, Edmundo Peralta, and Ramon Zagala II.\\n Guinid is the Army vice commander, while Peralta is the chief of the Armed Forces of the Philippines’ Intelligence Service. Hambala commands the 10th Infantry “Agila” division, while Zagala, the former commander of the Presidential Security Group, heads the AFP Civil Relations Service.\\n The CA, composed of 12 senators and 12 members of the House of Representatives with the Senate president standing as ex officio presiding officer, is authorized by the Constitution to look into the competence, fitness, and integrity of key presidential appointees and to approve or disapprove their designation.\\n ',\n",
       "  'Link': 'https://newsinfo.inquirer.net/1890240/ca-to-check-credentials-of-171-marcos-appointees'},\n",
       " {'Title': 'DA applies finishing touches to PH-Vietnam rice deal',\n",
       "  'Content': '\\n MANILA, Philippines — Agriculture officials are “almost done” with the working draft of the country’s proposed five-year rice trade agreement with Vietnam, which they hope will be signed during President Marcos’ state visit to Hanoi later this month.\\n Department of Agriculture (DA) Secretary Francisco Tiu Laurel Jr. gave the assurance on Tuesday following his meeting with the President.\\n “We were given instructions by the President [in December] to draft and finalize the memorandum of agreement with Vietnam so that it can be signed when he goes on a state visit to Vietnam by the end of January. We have the working draft; it’s almost done,” he said during a briefing in Malacañang.\\n Mr. Marcos will visit the Vietnamese capital on a three-day state from Jan. 29 to Jan. 31 to meet with Vietnamese President Vo Van Thuong and boost bilateral ties between their countries.\\n Manila and Hanoi have agreed to finalize a rice trade agreement involving Vietnam exporting rice to the Philippines to ensure its neighbor’s food security.\\n Asked for details on the rice trade deal, Laurel said: “Basically, it guarantees that they will supply rice to us even in calamity situations. That is part of our food safety. That is good for us.”\\n The agriculture secretary also assured the public of a sufficient rice supply based on inventories made in December and early this month.\\n Laurel said the Philippines recorded an ending rice stock of 20 million tons at the end of last year, and it was eyeing a similar volume for 2024 in preparation for El Niño, a climate pattern associated with warmer and drier conditions.\\n “As far as supply is concerned, we have enough supply of rice. We have healthy stocks of rice for December and January, and there’s additional rice coming. But prices are hard to predict because world prices of rice are going up because of El Niño,” he added.\\n ',\n",
       "  'Link': 'https://newsinfo.inquirer.net/1890238/da-applies-finishing-touches-to-ph-vietnam-rice-deal'},\n",
       " {'Title': 'Cops block groups protesting PUV modernization program',\n",
       "  'Content': '\\n MANILA, Philippines — Groups opposed to the government’s Public Utility Vehicle (PUV) Modernization Program staged another protest on Tuesday to push their demand for the scrapping of the program that requires PUV operators and drivers to consolidate and form transportation cooperatives and corporations to modernize their fleets.\\n Members of the Manibela coalition led by its chair Mar Valbuena and the Pinagkaisang Samahan ng Tsuper at Operator Nationwide gathered on the University of the Philippines campus in Diliman, Quezon City, where they held a program before proceeding to Manila.\\n But the caravan, composed of about 50 jeepneys and dozens of motorcycles, was blocked by police from going to Chino Roces Bridge near Malacañang. The protesters instead held a program on España Boulevard, causing heavy traffic in the area.\\n The Philippine National Police deployed around 5,000 police to “ensure public security and safety” during the transport protest.\\n Valbuena, however, claimed that their members and supporters from Bulacan, Pampanga, Cavite and Laguna were blocked by police on roads going to Metro Manila.\\n Valbuena added that others were barred from traversing expressways for being “out of line” and that law enforcers even confiscated their licenses.\\n However, Land Transportation Franchising and Regulatory Board Chair Teofilo Guadiz III, in a statement, said the agency does not tolerate any act of disrupting the movement of commuters that could risk their livelihood or studies.\\n PNP spokesperson Col. Jean Fajardo also denied Valbuena’s accusations that police blocked protesters from Cavite and Bulacan, saying some jeepneys were held at checkpoints for being “out of line” and failing to provide necessary documents.\\n ',\n",
       "  'Link': 'https://newsinfo.inquirer.net/1890242/cops-block-groups-protesting-puv-modernization-program'},\n",
       " {'Title': 'CA to check credentials of 171 Marcos appointees',\n",
       "  'Content': '\\n MANILA, Philippines — A total of 171 presidential appointees, mostly military officials and newly designated Finance Secretary Ralph Recto, will go through the scrutiny of the Commission on Appointments (CA) when Congress resumes session on Jan. 22.\\n CA Assistant Minority Leader and Surigao del Sur Rep. Johnny Pimentel encouraged the public on Tuesday to formally inform the body of their opposition to or complaint against any of the appointees scheduled for confirmation. Any information, written report, sworn and notarized complaints, or opposition should be submitted to the CA secretariat, he added.\\n “The CA has already received the appointment papers of Secretary Recto, along with the nomination papers of two ambassadors and the promotion papers of 168 senior military officers,” Pimentel said in a statement.\\n The two diplomats are Flerida Ann Camille Mayo, the Philippine ambassador to Cambodia, and Edgar Tomas Auxilian, the Philippine ambassador to Papua New Guinea with concurrent jurisdiction over Kiribati and the Solomon Islands.\\n Among the 168 military officials up for confirmation are Army Maj. Generals Leodevic Guinid, Allan Hambala, Edmundo Peralta, and Ramon Zagala II.\\n Guinid is the Army vice commander, while Peralta is the chief of the Armed Forces of the Philippines’ Intelligence Service. Hambala commands the 10th Infantry “Agila” division, while Zagala, the former commander of the Presidential Security Group, heads the AFP Civil Relations Service.\\n The CA, composed of 12 senators and 12 members of the House of Representatives with the Senate president standing as ex officio presiding officer, is authorized by the Constitution to look into the competence, fitness, and integrity of key presidential appointees and to approve or disapprove their designation.\\n ',\n",
       "  'Link': 'https://newsinfo.inquirer.net/1890240/ca-to-check-credentials-of-171-marcos-appointees'},\n",
       " {'Title': 'DA applies finishing touches to PH-Vietnam rice deal',\n",
       "  'Content': '\\n MANILA, Philippines — Agriculture officials are “almost done” with the working draft of the country’s proposed five-year rice trade agreement with Vietnam, which they hope will be signed during President Marcos’ state visit to Hanoi later this month.\\n Department of Agriculture (DA) Secretary Francisco Tiu Laurel Jr. gave the assurance on Tuesday following his meeting with the President.\\n “We were given instructions by the President [in December] to draft and finalize the memorandum of agreement with Vietnam so that it can be signed when he goes on a state visit to Vietnam by the end of January. We have the working draft; it’s almost done,” he said during a briefing in Malacañang.\\n Mr. Marcos will visit the Vietnamese capital on a three-day state from Jan. 29 to Jan. 31 to meet with Vietnamese President Vo Van Thuong and boost bilateral ties between their countries.\\n Manila and Hanoi have agreed to finalize a rice trade agreement involving Vietnam exporting rice to the Philippines to ensure its neighbor’s food security.\\n Asked for details on the rice trade deal, Laurel said: “Basically, it guarantees that they will supply rice to us even in calamity situations. That is part of our food safety. That is good for us.”\\n The agriculture secretary also assured the public of a sufficient rice supply based on inventories made in December and early this month.\\n Laurel said the Philippines recorded an ending rice stock of 20 million tons at the end of last year, and it was eyeing a similar volume for 2024 in preparation for El Niño, a climate pattern associated with warmer and drier conditions.\\n “As far as supply is concerned, we have enough supply of rice. We have healthy stocks of rice for December and January, and there’s additional rice coming. But prices are hard to predict because world prices of rice are going up because of El Niño,” he added.\\n ',\n",
       "  'Link': 'https://newsinfo.inquirer.net/1890238/da-applies-finishing-touches-to-ph-vietnam-rice-deal'}]"
      ]
     },
     "execution_count": 41,
     "metadata": {},
     "output_type": "execute_result"
    }
   ],
   "source": [
    "news_data"
   ]
  },
  {
   "cell_type": "markdown",
   "metadata": {},
   "source": [
    "## **II. Summarize news using LLM**\n",
    "\n",
    "- **POC ver**: News summarizer using *Fine-tuned LongT5 transformer* from Hugging Face\n",
    "    - Noticeable model rot due to lack of online training and fine tuning - some words are not summarized properly and model starts to hallucinate\n",
    "- **Next steps**:\n",
    "  1. Try other LLMs: Mistral, Phi, Quantized versions, etc\n",
    "  2. Other gimmicks: Add text-to-image models and attach in email"
   ]
  },
  {
   "cell_type": "code",
   "execution_count": 42,
   "metadata": {},
   "outputs": [
    {
     "name": "stderr",
     "output_type": "stream",
     "text": [
      "Loading the tokenizer from the `special_tokens_map.json` and the `added_tokens.json` will be removed in `transformers 5`,  it is kept for forward compatibility, but it is recommended to update your `tokenizer_config.json` by uploading it again. You will see the new `added_tokens_decoder` attribute that will store the relevant information.\n"
     ]
    }
   ],
   "source": [
    "from transformers import pipeline\n",
    "\n",
    "summarizer_llm = pipeline(\n",
    "    \"summarization\", \"pszemraj/long-t5-tglobal-base-16384-book-summary\", max_length=256\n",
    ")\n",
    "\n",
    "# summary = summarizer_llm(content)\n",
    "# summarized_news = summary[0][\"summary_text\"]\n",
    "# print(summarized_news)"
   ]
  },
  {
   "cell_type": "markdown",
   "metadata": {},
   "source": [
    "Store summarized news"
   ]
  },
  {
   "cell_type": "code",
   "execution_count": 43,
   "metadata": {},
   "outputs": [
    {
     "name": "stderr",
     "output_type": "stream",
     "text": [
      "c:\\Users\\Earl\\anaconda3\\lib\\site-packages\\transformers\\modeling_utils.py:859: FutureWarning: The `device` argument is deprecated and will be removed in v5 of Transformers.\n",
      "  warnings.warn(\n"
     ]
    }
   ],
   "source": [
    "news_data_final = [\n",
    "    # Add key \"Summary\" with summary of news content to the orig dict of each news\n",
    "    dict(\n",
    "        news_dict,\n",
    "        **{\"Summary\": summarizer_llm(news_dict[\"Content\"])[0][\"summary_text\"]},\n",
    "    )\n",
    "    for news_dict in news_data\n",
    "]"
   ]
  },
  {
   "cell_type": "code",
   "execution_count": 44,
   "metadata": {},
   "outputs": [
    {
     "data": {
      "text/plain": [
       "[{'Title': 'CA to check credentials of 171 Marcos appointees',\n",
       "  'Content': '\\n MANILA, Philippines — A total of 171 presidential appointees, mostly military officials and newly designated Finance Secretary Ralph Recto, will go through the scrutiny of the Commission on Appointments (CA) when Congress resumes session on Jan. 22.\\n CA Assistant Minority Leader and Surigao del Sur Rep. Johnny Pimentel encouraged the public on Tuesday to formally inform the body of their opposition to or complaint against any of the appointees scheduled for confirmation. Any information, written report, sworn and notarized complaints, or opposition should be submitted to the CA secretariat, he added.\\n “The CA has already received the appointment papers of Secretary Recto, along with the nomination papers of two ambassadors and the promotion papers of 168 senior military officers,” Pimentel said in a statement.\\n The two diplomats are Flerida Ann Camille Mayo, the Philippine ambassador to Cambodia, and Edgar Tomas Auxilian, the Philippine ambassador to Papua New Guinea with concurrent jurisdiction over Kiribati and the Solomon Islands.\\n Among the 168 military officials up for confirmation are Army Maj. Generals Leodevic Guinid, Allan Hambala, Edmundo Peralta, and Ramon Zagala II.\\n Guinid is the Army vice commander, while Peralta is the chief of the Armed Forces of the Philippines’ Intelligence Service. Hambala commands the 10th Infantry “Agila” division, while Zagala, the former commander of the Presidential Security Group, heads the AFP Civil Relations Service.\\n The CA, composed of 12 senators and 12 members of the House of Representatives with the Senate president standing as ex officio presiding officer, is authorized by the Constitution to look into the competence, fitness, and integrity of key presidential appointees and to approve or disapprove their designation.\\n ',\n",
       "  'Link': 'https://newsinfo.inquirer.net/1890240/ca-to-check-credentials-of-171-marcos-appointees',\n",
       "  'Summary': 'The commission on appointment is set to hear testimony from the public in two days. Pimentil urges the public to make their opposition to any of the presidential appoaches before they are made official. Among these are Generals Ledeva Guinidig, Allan Halbala, Edmund Peralta and Ramonza II. They will be scrutinized by the Senate and House for their suitability and integrity.'},\n",
       " {'Title': 'DA applies finishing touches to PH-Vietnam rice deal',\n",
       "  'Content': '\\n MANILA, Philippines — Agriculture officials are “almost done” with the working draft of the country’s proposed five-year rice trade agreement with Vietnam, which they hope will be signed during President Marcos’ state visit to Hanoi later this month.\\n Department of Agriculture (DA) Secretary Francisco Tiu Laurel Jr. gave the assurance on Tuesday following his meeting with the President.\\n “We were given instructions by the President [in December] to draft and finalize the memorandum of agreement with Vietnam so that it can be signed when he goes on a state visit to Vietnam by the end of January. We have the working draft; it’s almost done,” he said during a briefing in Malacañang.\\n Mr. Marcos will visit the Vietnamese capital on a three-day state from Jan. 29 to Jan. 31 to meet with Vietnamese President Vo Van Thuong and boost bilateral ties between their countries.\\n Manila and Hanoi have agreed to finalize a rice trade agreement involving Vietnam exporting rice to the Philippines to ensure its neighbor’s food security.\\n Asked for details on the rice trade deal, Laurel said: “Basically, it guarantees that they will supply rice to us even in calamity situations. That is part of our food safety. That is good for us.”\\n The agriculture secretary also assured the public of a sufficient rice supply based on inventories made in December and early this month.\\n Laurel said the Philippines recorded an ending rice stock of 20 million tons at the end of last year, and it was eyeing a similar volume for 2024 in preparation for El Niño, a climate pattern associated with warmer and drier conditions.\\n “As far as supply is concerned, we have enough supply of rice. We have healthy stocks of rice for December and January, and there’s additional rice coming. But prices are hard to predict because world prices of rice are going up because of El Niño,” he added.\\n ',\n",
       "  'Link': 'https://newsinfo.inquirer.net/1890238/da-applies-finishing-touches-to-ph-vietnam-rice-deal',\n",
       "  'Summary': 'The finalized agreement with the Ho Chi Minh bi-proposal has been signed and will be presented to the President at his next visit to the capital in January.'},\n",
       " {'Title': 'Cops block groups protesting PUV modernization program',\n",
       "  'Content': '\\n MANILA, Philippines — Groups opposed to the government’s Public Utility Vehicle (PUV) Modernization Program staged another protest on Tuesday to push their demand for the scrapping of the program that requires PUV operators and drivers to consolidate and form transportation cooperatives and corporations to modernize their fleets.\\n Members of the Manibela coalition led by its chair Mar Valbuena and the Pinagkaisang Samahan ng Tsuper at Operator Nationwide gathered on the University of the Philippines campus in Diliman, Quezon City, where they held a program before proceeding to Manila.\\n But the caravan, composed of about 50 jeepneys and dozens of motorcycles, was blocked by police from going to Chino Roces Bridge near Malacañang. The protesters instead held a program on España Boulevard, causing heavy traffic in the area.\\n The Philippine National Police deployed around 5,000 police to “ensure public security and safety” during the transport protest.\\n Valbuena, however, claimed that their members and supporters from Bulacan, Pampanga, Cavite and Laguna were blocked by police on roads going to Metro Manila.\\n Valbuena added that others were barred from traversing expressways for being “out of line” and that law enforcers even confiscated their licenses.\\n However, Land Transportation Franchising and Regulatory Board Chair Teofilo Guadiz III, in a statement, said the agency does not tolerate any act of disrupting the movement of commuters that could risk their livelihood or studies.\\n PNP spokesperson Col. Jean Fajardo also denied Valbuena’s accusations that police blocked protesters from Cavite and Bulacan, saying some jeepneys were held at checkpoints for being “out of line” and failing to provide necessary documents.\\n ',\n",
       "  'Link': 'https://newsinfo.inquirer.net/1890242/cops-block-groups-protesting-puv-modernization-program',\n",
       "  'Summary': 'Another protest is being held in the country to push for the scraping of the PUV Modernization program. This time, however, police block the entire group of pro-PUV organizers from Bulacayang, Panggotta, and other pro-cabin movement members.'},\n",
       " {'Title': 'CA to check credentials of 171 Marcos appointees',\n",
       "  'Content': '\\n MANILA, Philippines — A total of 171 presidential appointees, mostly military officials and newly designated Finance Secretary Ralph Recto, will go through the scrutiny of the Commission on Appointments (CA) when Congress resumes session on Jan. 22.\\n CA Assistant Minority Leader and Surigao del Sur Rep. Johnny Pimentel encouraged the public on Tuesday to formally inform the body of their opposition to or complaint against any of the appointees scheduled for confirmation. Any information, written report, sworn and notarized complaints, or opposition should be submitted to the CA secretariat, he added.\\n “The CA has already received the appointment papers of Secretary Recto, along with the nomination papers of two ambassadors and the promotion papers of 168 senior military officers,” Pimentel said in a statement.\\n The two diplomats are Flerida Ann Camille Mayo, the Philippine ambassador to Cambodia, and Edgar Tomas Auxilian, the Philippine ambassador to Papua New Guinea with concurrent jurisdiction over Kiribati and the Solomon Islands.\\n Among the 168 military officials up for confirmation are Army Maj. Generals Leodevic Guinid, Allan Hambala, Edmundo Peralta, and Ramon Zagala II.\\n Guinid is the Army vice commander, while Peralta is the chief of the Armed Forces of the Philippines’ Intelligence Service. Hambala commands the 10th Infantry “Agila” division, while Zagala, the former commander of the Presidential Security Group, heads the AFP Civil Relations Service.\\n The CA, composed of 12 senators and 12 members of the House of Representatives with the Senate president standing as ex officio presiding officer, is authorized by the Constitution to look into the competence, fitness, and integrity of key presidential appointees and to approve or disapprove their designation.\\n ',\n",
       "  'Link': 'https://newsinfo.inquirer.net/1890240/ca-to-check-credentials-of-171-marcos-appointees',\n",
       "  'Summary': 'The commission on appointment is set to hear testimony from the public in two days. Pimentil urges the public to make their opposition to any of the presidential appoaches before they are made official. Among these are Generals Ledeva Guinidig, Allan Halbala, Edmund Peralta and Ramonza II. They will be scrutinized by the Senate and House for their suitability and integrity.'},\n",
       " {'Title': 'DA applies finishing touches to PH-Vietnam rice deal',\n",
       "  'Content': '\\n MANILA, Philippines — Agriculture officials are “almost done” with the working draft of the country’s proposed five-year rice trade agreement with Vietnam, which they hope will be signed during President Marcos’ state visit to Hanoi later this month.\\n Department of Agriculture (DA) Secretary Francisco Tiu Laurel Jr. gave the assurance on Tuesday following his meeting with the President.\\n “We were given instructions by the President [in December] to draft and finalize the memorandum of agreement with Vietnam so that it can be signed when he goes on a state visit to Vietnam by the end of January. We have the working draft; it’s almost done,” he said during a briefing in Malacañang.\\n Mr. Marcos will visit the Vietnamese capital on a three-day state from Jan. 29 to Jan. 31 to meet with Vietnamese President Vo Van Thuong and boost bilateral ties between their countries.\\n Manila and Hanoi have agreed to finalize a rice trade agreement involving Vietnam exporting rice to the Philippines to ensure its neighbor’s food security.\\n Asked for details on the rice trade deal, Laurel said: “Basically, it guarantees that they will supply rice to us even in calamity situations. That is part of our food safety. That is good for us.”\\n The agriculture secretary also assured the public of a sufficient rice supply based on inventories made in December and early this month.\\n Laurel said the Philippines recorded an ending rice stock of 20 million tons at the end of last year, and it was eyeing a similar volume for 2024 in preparation for El Niño, a climate pattern associated with warmer and drier conditions.\\n “As far as supply is concerned, we have enough supply of rice. We have healthy stocks of rice for December and January, and there’s additional rice coming. But prices are hard to predict because world prices of rice are going up because of El Niño,” he added.\\n ',\n",
       "  'Link': 'https://newsinfo.inquirer.net/1890238/da-applies-finishing-touches-to-ph-vietnam-rice-deal',\n",
       "  'Summary': 'The finalized agreement with the Ho Chi Minh bi-proposal has been signed and will be presented to the President at his next visit to the capital in January.'}]"
      ]
     },
     "execution_count": 44,
     "metadata": {},
     "output_type": "execute_result"
    }
   ],
   "source": [
    "news_data_final"
   ]
  },
  {
   "cell_type": "code",
   "execution_count": 18,
   "metadata": {},
   "outputs": [],
   "source": [
    "# title = news_data[2][\"Title\"]\n",
    "# content = news_data[2][\"Content\"]\n",
    "# content"
   ]
  },
  {
   "cell_type": "markdown",
   "metadata": {},
   "source": [
    "## **III. Gmail Email Sender**\n",
    "\n",
    "- **POC ver**: Simple style and HTML based. No file attachments\n",
    "- **Next steps**:\n",
    "  1. Better style - use CSS?\n",
    "  2. Add attachments produced by other generative models "
   ]
  },
  {
   "cell_type": "code",
   "execution_count": 17,
   "metadata": {},
   "outputs": [],
   "source": [
    "# import smtplib\n",
    "# import ssl\n",
    "# from email.message import EmailMessage\n",
    "\n",
    "# # Define email sender and receiver\n",
    "# email_sender = 'phnewsletterbot@gmail.com'\n",
    "# email_password = 'wgjg eryn cqqr ptev' # GET THIS IN https://myaccount.google.com/u/4/apppasswords\n",
    "# email_receiver = 'earljohn.crusina05@gmail.com'\n",
    "\n",
    "# # Set the subject and body of the email\n",
    "# subject = f'Philippine News For {PREV_DATE_STR}'\n",
    "# body = f\"\"\"\n",
    "# 1. {title} | <a href=\"{news_link}\">Philstar</a> \\n\\t Summary: {summarized_news}\n",
    "# \"\"\"\n",
    "\n",
    "\n",
    "# em = EmailMessage()\n",
    "# em['From'] = email_sender\n",
    "# em['To'] = email_receiver\n",
    "# em['Subject'] = subject\n",
    "# em.set_content(body)\n",
    "\n",
    "# # Add SSL (layer of security)\n",
    "# context = ssl.create_default_context()\n",
    "\n",
    "# # Log in and send the email\n",
    "# with smtplib.SMTP_SSL('smtp.gmail.com', 465, context=context) as smtp:\n",
    "#     smtp.login(email_sender, email_password)\n",
    "#     smtp.sendmail(email_sender, email_receiver, em.as_string())"
   ]
  },
  {
   "cell_type": "code",
   "execution_count": 14,
   "metadata": {},
   "outputs": [],
   "source": [
    "import smtplib\n",
    "import ssl\n",
    "from email.mime.multipart import MIMEMultipart\n",
    "from email.mime.text import MIMEText\n",
    "\n",
    "news_outlet = \"INQUIRER\"\n",
    "\n",
    "# Define email sender and receiver\n",
    "sender_email = \"phnewsletterbot@gmail.com\"\n",
    "password = (\n",
    "    \"wgjg eryn cqqr ptev\"  # GET THIS IN https://myaccount.google.com/u/4/apppasswords\n",
    ")\n",
    "receiver_email = \"earljohn.crusina05@gmail.com\"\n",
    "\n",
    "message = MIMEMultipart(\"alternative\")\n",
    "message[\"Subject\"] = f\"Philippine News For {PREV_DATE_STR}\"\n",
    "message[\"From\"] = sender_email\n",
    "message[\"To\"] = receiver_email\n",
    "\n",
    "\n",
    "# Create the plain-text and HTML version of your message\n",
    "text = \"\"\"\\\n",
    "Good day there! Here are the latest news in the Philippines yesterday:\n",
    "\"\"\"\n",
    "\n",
    "html = \"\"\"\\\n",
    "<html>\n",
    "  <head>\n",
    "  </head>\n",
    "  <body style=font-size:16px>\n",
    "    <p>Good day there! Here are the latest news in the Philippines yesterday:</p>\n",
    "    <ol>\n",
    "\"\"\"\n",
    "\n",
    "# Add each news article to the HTML content\n",
    "for i, article in enumerate(news_data_final, start=1):\n",
    "    title = article[\"Title\"]\n",
    "    link = article[\"Link\"]\n",
    "    summarized_news = article[\"Summary\"]\n",
    "\n",
    "    # Add the article to the HTML content in a numbered list format\n",
    "    html += f\"\"\"\n",
    "      <li>\n",
    "        <b>{title}</b> | <a href=\"{link}\">{news_outlet}</a> \n",
    "        <br>\n",
    "        <ul>{summarized_news}</ul>\n",
    "        <br>\n",
    "      </li>\n",
    "    \"\"\"\n",
    "    # Add the article to the plain-text content\n",
    "    text += f\"{i}. {title} | {news_outlet}\\n\\tSummary: {summarized_news}\\n\"\n",
    "\n",
    "# Close the HTML tags\n",
    "html += \"\"\"\\\n",
    "    </ol>\n",
    "  </body>\n",
    "</html>\n",
    "\"\"\"\n",
    "\n",
    "# Turn these into plain/html MIMEText objects\n",
    "part1 = MIMEText(text, \"plain\")\n",
    "part2 = MIMEText(html, \"html\")\n",
    "\n",
    "# Add HTML/plain-text parts to MIMEMultipart message\n",
    "message.attach(part1)\n",
    "message.attach(part2)\n",
    "\n",
    "# Create a secure connection with the server and send the email\n",
    "context = ssl.create_default_context()\n",
    "with smtplib.SMTP_SSL(\"smtp.gmail.com\", 465, context=context) as server:\n",
    "    server.login(sender_email, password)\n",
    "    server.sendmail(sender_email, receiver_email, message.as_string())\n"
   ]
  },
  {
   "cell_type": "markdown",
   "metadata": {},
   "source": [
    "## **IV. DynamoDB NoSQL Cloud database**\n",
    "\n",
    "- **POC ver**: Store news for last 3 days only to limit within free tier storage\n",
    "- **IMPORTANT**: Need to stay within Free tier\n",
    "    - 25G storage\n",
    "    - 25 provisioned Read Capacity Unit\n",
    "    - 25 provisioned Write Capacity Unit"
   ]
  },
  {
   "cell_type": "code",
   "execution_count": 15,
   "metadata": {},
   "outputs": [],
   "source": [
    "# pip install boto3"
   ]
  },
  {
   "cell_type": "code",
   "execution_count": 16,
   "metadata": {},
   "outputs": [
    {
     "data": {
      "text/plain": [
       "'20240115'"
      ]
     },
     "execution_count": 16,
     "metadata": {},
     "output_type": "execute_result"
    }
   ],
   "source": [
    "PREV_DATE_ID = PREV_DATE.strftime(\"%Y%m%d\")\n",
    "PREV_DATE_ID"
   ]
  },
  {
   "cell_type": "code",
   "execution_count": 17,
   "metadata": {},
   "outputs": [],
   "source": [
    "# PREV_DATE_ID = '20231024'"
   ]
  },
  {
   "cell_type": "code",
   "execution_count": 18,
   "metadata": {},
   "outputs": [],
   "source": [
    "# Add IDs for DynamoDB table\n",
    "for idx, news_data in enumerate(news_data_final):\n",
    "    news_data_final[idx][\"dateID\"] = PREV_DATE_ID\n",
    "    news_data_final[idx][\"newsID\"] = (\n",
    "        PREV_DATE_ID + \"-\" + str(len(news_data_final) - idx)\n",
    "    )  # Start ID as 1 for the last news_data in list\n",
    "    news_data_final[idx][\"CreationDate\"] = datetime.now().isoformat()"
   ]
  },
  {
   "cell_type": "code",
   "execution_count": 19,
   "metadata": {},
   "outputs": [
    {
     "data": {
      "text/plain": [
       "[{'Title': 'No need to meet with House on changing economic provisions, says Zubiri',\n",
       "  'Content': '\\n MANILA, Philippines — There is no longer need for the Senate and the House of Representatives to convene jointly to propose amendments to economic provisions of the 1987 Constitution.\\n This is according to Senate President Juan Miguel Zubiri, who filed Resolution of Both Houses\\xa0 (RBH6) No. 6 on Monday, proposing amendments to certain economic provisions of the Constitution.\\n “No need, we don’t\\xa0 need to meet,” Zubiri said in a press conference when asked if the\\xa0 two chambers\\xa0 would have to meet jointly through a constituent assembly to discuss the proposed amendments.\\n “And there’s no specific instruction on the Constitution. We can meet separately for\\xa0 that,” he added.\\n Article 17 of\\xa0 the Constitution\\xa0 simply\\xa0 states that “Congress upon a vote of three-fourths of all its members” may propose amendments\\xa0 to or revision\\xa0 of the 1987 Constitution.\\n The\\xa0 two\\xa0 other methods of proposing amendments or revisions are through a Constitutional convention and via people’s initiative (PI).\\n On President Ferdinand “Bongbong” Marcos Jr.’s suggestion, the Senate leadership took the lead\\xa0 in reviewing the economic provisions of the Constitution by\\xa0 filing\\xa0 RHB6.\\n Zubiri said Marcos himself agreed that changing the Constitution through\\xa0 the PI was “too divisive”\\xa0 so he asked the Senate to take the lead in the review of the economic provisions.\\n All these were\\xa0 discussed when the Senate and House leaderships\\xa0 met with the President\\xa0 last January 11, \\xa0 according to the Senate chief.\\n “And sabi niya (Marcos) sa akin at kay Speaker, sabi niya, why doesn’t the Senate take the lead in the discussions of the economic provisions and then you approve your version which the House can adopt?” Zubiri recalled\\xa0 the President\\xa0 telling them.\\n “That was the position of the President. Para hindi na tayo maglalagay pa ng kung anu-ano pang mga amendments na sa tingin natin ay magagalit ang taumbayan. So that was quite clear in the meeting,”\\xa0 he added.\\n ',\n",
       "  'Link': 'https://newsinfo.inquirer.net/1889448/no-need-to-meet-with-house-on-changing-economic-provisions-says-zubiri',\n",
       "  'Summary': \"The House and Senate have not yet met to discuss proposed amendments to the Constitution. According to Juan Miguel Zibiri, the two houses can meet separately to discuss the provisions of the constitution. In other words, they don't need to\",\n",
       "  'dateID': '20240115',\n",
       "  'newsID': '20240115-7',\n",
       "  'CreationDate': '2024-01-16T21:13:35.040761'},\n",
       " {'Title': 'Bongbong Marcos asks Senate to lead review of economic provisions',\n",
       "  'Content': '\\n Updated on January 15, 2024 at 12:33 p.m.\\n MANILA, Philippines — Agreeing that Charter change (Cha-cha) through people’s initiative was “too divisive,” President Ferdinand “Bongbong” Marcos\\xa0 Jr. has instead directed the Senate to take the lead in reviewing the economic provisions of the Constitution.\\n Marcos gave this order after meeting with congressional leaders last January 11, Senate President Juan Miguel Zubiri\\xa0 disclosed on Monday.\\n “The President agreed with us that the proposal was too divisive, and asked the Senate to instead take the lead in reviewing the economic provisions of the Constitution,” Zubiri said in a press conference at the Senate.\\n “In this way, we can preserve our bicameral nature of legislation,” the Senate leader added.\\n \\n The meeting, he said, was attended by Senate President Pro Tempore Loren Legarda and the leadership of the House of Representatives.\\n While recognizing the people’s right to call for Constitutional change, Zubiri stressed the need to “guard against any attempt to revise the Constitution by exploiting our democratic process under the guise of a people’s initiative.”\\n “The People’s initiative on Article XVII, Sec. 1(1) of the Constitution stoked fears of the unknown among our citizens,” he also said.\\n So any move to amend the 1987 Constitution, he said, must not only identify the specific provisions that need to be changed but should also cite the impact, effect, and true intention of the proposed changes.\\n “The proposal subject of the people’s initiative could led to a constitutional crisis, destabilizing our bicameralism and upsetting the system of checks and balances,” the Senate chief also warned.\\n \\n Even before the President’s\\xa0 directive, Zubiri noted that Congress already approved the amendments to the Public Service Act (PSA), which\\xa0aims to attract more foreign investments to the county.\\n And the Senate is standing firm behind the law despite questions raised against it before the Supreme Court, he said.\\n Nevertheless, the Senate vowed to work with the House “to remove all doubts on the constitutionality of the law by ensuring that the liberalized policies contained in the PSA can be implemented and relied on by investors as an enduring policy.”\\n “It is only in this respect that the Senate can agree to modify the Constitution,” Zubiri stressed.\\n ',\n",
       "  'Link': 'https://newsinfo.inquirer.net/1889315/peoples-initiative-too-divisive-bongbong-marcos-asks-senate-to-lead-review-of-economic-provisions',\n",
       "  'Summary': 'The Constitution\\'s provisions for granting powers to the states are too weak to be used as leverage against foreign powers, according to Senate President Juan M.Zubiri. In order to preserve the \"bicamerical nature of legislation',\n",
       "  'dateID': '20240115',\n",
       "  'newsID': '20240115-6',\n",
       "  'CreationDate': '2024-01-16T21:13:35.040761'},\n",
       " {'Title': 'Charter change bid signatures may be voided if ‘funded’',\n",
       "  'Content': '\\n MANILA, Philippines — The ongoing “people’s initiative” to amend the Constitution may be voided if it is proven that the signatures for the petition were gathered using government funds, according to Commission on Elections (Comelec) Chair George Garcia.\\n Garcia cited a resolution issued by Comelec in 2020 amid allegations that government functionaries were being mobilized to gather signatures and that signatories were promised money in exchange.\\n “Section 16 of Resolution 10650 prohibits the use of government funds to gather signatures for a people’s initiative,” he said in a radio interview on Sunday.\\n He is referring to Comelec Resolution No. 10650, issued on Jan. 31, 2020, that laid the rules for the “conduct of initiative on the Constitution and initiative and referendum on national and local legislation.”\\n Section 16 states that “all expenses relative to the signature gathering and verification shall be solely borne by the proponent/s and shall not be funded from public sources.”\\n “If that will be proven, oh well, the individual signatures of people who were either intimidated, terrorized, or given money from government funds may be voided,” Garcia said.\\n As one of the ways to introduce amendments to the Constitution, a people’s initiative has to gather at least 12 percent of the total registered voters nationwide and 3 percent of the registered voters per legislative district.\\n If the signature drive becomes successful, the proposed Charter amendment will undergo a plebiscite to be conducted by Comelec.\\n Should it receive a signed people’s initiative, Comelec has to verify whether the signatures gathered were sufficient and whether the proposed amendment conformed with the required form of the petition.\\n “Then we will order to verify the signatures if they were really the signatures of the voters if they really signed it,” Garcia said.\\n But if the signatures are invalidated and the petition falls through, Garcia said Comelec has no authority to charge the proponents with election offense since it was not an electoral exercise.\\n He, however, said the use of public funds falls under the Anti-Graft and Corrupt Practices Act (Republic Act No. 3019), while the involvement of government employees falls under civil service rules prohibiting partisan political activity.\\n “But on our part, we don’t want to comment yet because we are waiting if there will be any complaint,” Garcia stressed.\\n ',\n",
       "  'Link': 'https://newsinfo.inquirer.net/1889097/cha-cha-bid-signatures-may-be-voided-if-funded',\n",
       "  'Summary': 'The Constitution\\'s governing body, the commission on elections, has passed a resolution prohibiting government officials from gathering signatures for an \"people\\'s initiative. Garcia says that if the petition is successful, it will go through ',\n",
       "  'dateID': '20240115',\n",
       "  'newsID': '20240115-5',\n",
       "  'CreationDate': '2024-01-16T21:13:35.040761'},\n",
       " {'Title': 'International rights group seeks end to red-tagging',\n",
       "  'Content': '\\n MANILA, Philippines — Ahead of the country’s implementation of its controversial antiterror law starting Jan. 15, the international human rights organization Human Rights Watch (HRW) has called for an end to the Philippine government’s “pernicious” practice of red-tagging leftist activists and critics who are at “serious risk.”\\n In its annual World Report 2024, which surveys human rights practices in more than 100 countries, HRW observed how the Marcos administration has “increasingly constricted democratic space by using the justice system to target leftist activist groups.”\\n While the group took note of President Ferdinand Marcos Jr.’s “measured rhetoric” about human rights, it said that many of the abuses reported under his predecessor, former President Rodrigo Duterte, remained rampant.\\n HRW also pointed out that there seemed to be no “evident efforts to end the practice” despite Marcos’ promise to improve the country’s human rights situation.\\n The group specifically expressed concern over Red-tagging, which recently has turned into “terrorist-tagging,” as the government wields its “harsh and overbroad” Anti-Terrorism Act of 2020 (Republic Act No. 11479) to target civil society organizations.\\n It cited the humanitarian group Community Empowerment Resource Network, which, after being Red-tagged by the military, was charged with providing funds to the New People’s Army (NPA).\\n This practice appears to have paved the way for another phenomenon: the abductions of and subsequent “surrender” of activists, HRW said. It pointed to the abduction of Cebu-based activists Dyan Gumanao and Armand Dayoha at a port in Cebu City, who later surfaced to accuse state agents of kidnapping them.\\n Last September, environmental activists Jonila Castro and Jhed Tamano also went missing and were later presented to the media by state forces who claimed they were NPA fighters.\\n But in a separate state-organized press conference, the two belied the claim against them and accused the military of abducting them.\\n Given these circumstances, HRW Deputy Asia director Bryony Lau urged the Marcos administration to “end the pernicious practice of labeling government opponents as communists.”\\n “Red-tagging is a form of harassment that can lead to deadly abuses, and runs counter to Marcos’ pledge to promote human rights,” he said.\\n One such example that underscored how this practice could lead to other violations is the case of ACT Teachers Rep. France Castro, who has not only borne the brunt of the government’s Red-tagging but is also consistently branded as an NPA sympathizer.\\n On Jan. 9, the Quezon City Prosecutor’s Office dismissed her criminal complaint of grave threats against Duterte, citing lack of sufficient evidence.\\n The decision angered local rights groups, who questioned how the prosecutor could claim that Duterte “was not serious in hurling death threats.”\\n From its records, Karapatan said that at least 422 activists were killed during his six-year term, and another 574 survived attempts on their lives simply because of “Duterte’s explicit kill orders through public statements in front of soldiers and police.”\\n “The number of Duterte’s victims is no joke. It is never a laughing matter to be threatened by a brutal fascist with a murderous history like Duterte. The Quezon City prosecutor must reconsider the decision and indict Duterte for the grave threats he said against Representative Castro,” Karapatan said.\\n ',\n",
       "  'Link': 'https://newsinfo.inquirer.net/1889096/intl-rights-group-seeks-end-to-red-tagging',\n",
       "  'Summary': 'The International Human Rights Watch, a watchdog of the United States, has called on the government to end its \"pernicious\" practice of redagging leftists and critics. It points out that the country\\'s anti-',\n",
       "  'dateID': '20240115',\n",
       "  'newsID': '20240115-4',\n",
       "  'CreationDate': '2024-01-16T21:13:35.040761'},\n",
       " {'Title': 'Gov’t responsible for subsidy on modern PUVs – CHR',\n",
       "  'Content': '\\n MANILA, Philippines — For the first time since the Marcos administration imposed a hard deadline for jeepneys to consolidate into fleets, the Commission on Human Rights (CHR) has declared that the government should “efficiently subsidize” the public utility vehicle modernization program (PUVMP) and make sure it would not trample on the rights of drivers, operators and commuters.\\n In a statement issued last Friday at the Inquirer’s request, the CHR said it recognizes the need for safer and more environment-friendly transportation modes but stressed that “adhering strictly to rigid consolidation deadlines may jeopardize PUV operators’ right to a sustainable livelihood.”\\n “The Commission believes that genuine progress is inclusive and leaves no one behind. Given the economic and financial implications of PUVMP, the majority of the program’s financial burden will fall on drivers and operators,” it noted.\\n The CHR called on the government to “efficiently subsidize the program, develop an effective communication strategy for the general public, and make the implementing rules and regulations of PUVMP more understandable.”\\n The Land Transportation Franchising and Regulatory Board had announced that jeepney operators and drivers only have until Jan. 31 to consolidate into cooperatives or corporations and take the first major step toward fulfilling the PUVMP. This was another extension from an earlier deadline, the most recent being Dec. 31.\\n The program requires that traditional, diesel-run PUVs like jeepneys and UV Expresses shift to Euro-4-friendly units, which are pegged at a steep P2.4 million.\\n Jeepney operators and drivers have argued that this imposition infringes on their right to livelihood and just transition, as many of them cannot shoulder the huge costs of modernization. This is also why they have been clamoring for the CHR to weigh in on the program.\\n In response, the commission affirmed their concerns and urged the government to pursue its program “without violating fundamental human rights.”\\n It cited multiple reports and studies that argue that many jeepney drivers may lose their jobs because of the program’s high entry barriers.\\n For the think tank Ibon Foundation, the costs of modernization cover not only the unit cost but also the expenses associated with forming and coordinating a cooperative or corporation and maintaining those units.\\n “[That] the government set a ceiling of P80,000 in subsidies per unit despite the updated jeepneys costing upward of P1 million does not alleviate fears that the program will simply push poorer operators out, allowing well-financed corporations to take over,” the CHR underscored.\\n The CHR also reminded the Marcos government that the program’s consequences extended to commuters who bear the brunt of strikes and protests by the affected public utility groups.\\n “In the context of the PUVMP, it is necessary to avoid actions that may impose an undue burden on the public. This includes avoiding financial difficulties for small transportation operators and protecting the livelihoods of the numerous drivers involved,” the commission said.\\n “The potential consequences, such as pushing these drivers and their families into poverty, highlight the need for a balanced and considerate approach in implementing modernization efforts to ensure they align with wider societal welfare,” it added.\\n The commission also affirmed the jeepney operators and drivers’ right to self-organization as well as their right to strike in accordance with the law, as enshrined in the 1987 Constitution.\\n It cited the International Labor Organization Convention 87 (ILOC 87), which states that “workers and employers, without distinction whatsoever, shall have the right to establish and, subject only to the rules of the organization concerned, to join organizations of their own choosing without prior authorization.”\\n “Needless to say, participating in a cooperative should be a voluntary decision,” the CHR added.\\n Meanwhile, transport groups Manibela and Piston said they would lead a protest march on Tuesday.\\n At least 15,000 people—including jeepney drivers, operators, commuters and students—are expected to join the march from the University of the Philippines Diliman to Mendiola, Manibela chair Mar Valbuena announced in a forum on Sunday.\\n Valbuena said they would call on President Marcos to reconsider his stance on the PUVMP and retract the impending revocation of franchises of unconsolidated PUVs.\\n “We would like to appeal to the President to return the revoked franchise of our operators. Because this would result in loss of income for our drivers and operators, and also a loss of transportation means for the public,” he said.\\n Around 30,000 jeepneys in Metro Manila have yet to consolidate into cooperatives, according to Manibela. —WITH A REPORT FROM FRANCES MANGOSING INQ\\n ',\n",
       "  'Link': 'https://newsinfo.inquirer.net/1889111/chr-govt-responsiblefor-subsidy-on-modern-puvs',\n",
       "  'Summary': 'The commission on human rights has pushed back another deadline for the consolidation of jeepys into fleets. This time, it says, it will make sure that the program does not violate the rights of passengers, drivers, and commute',\n",
       "  'dateID': '20240115',\n",
       "  'newsID': '20240115-3',\n",
       "  'CreationDate': '2024-01-16T21:13:35.040761'},\n",
       " {'Title': 'BI: 128 foreign fugitives arrested in 2023',\n",
       "  'Content': '\\n MANILA, Philippines — The Bureau of Immigration (BI) arrested in 2023 a total of 128 foreign fugitives wanted for various crimes in their homelands.\\n In a report to Immigration Commissioner Norman Tansingco, the BI’s fugitive search unit (FSU) said the alien fugitives were captured in various operations conducted nationwide, particularly in areas where the foreigners were hiding or have stayed since they arrived in the country.\\n Nearly all of the captured fugitives were already deported and are already serving time in prison in their respective countries after being convicted of the crimes they allegedly committed, the bureau added.\\n The FSU also reported that 39 South Koreans account for the bulk of the arrested fugitives, followed by 25 Chinese nationals, 15 Vietnamese, 12 Taiwanese, 11 Americans and eight Japanese. Offenses committed include involvement in economic crimes, investment scams, illegal gambling, money laundering, telecommunications fraud, robbery and smuggling.\\n Among the notable arrests in March involved Manpreet Singh and his cohorts. They were tagged as members of an extremist group called the Khalistan Tiger Force in India, which is reportedly known for promoting “acts of terrorism” and targeted killings.\\n Also arrested in 2023 were Risa Yamada, Fujita Kairi and Sato Shohei for their affiliation with the infamous “Luffy” syndicate, known for a string of robberies in Japan.\\n Tansingco said all of them were already included in the immigration blacklist of undesirable aliens. Hence, they are perpetually barred from reentering the country.\\n He added the operations against the fugitives send a signal that the Philippines is not a refuge or sanctuary for foreign criminals who want to evade arrest and prosecution for crimes they committed in their respective countries.\\n “Our country is off limits to these foreign fugitives. They are not welcome here, and there will be no letup in our campaign to hunt and deport them so they could be tried for the criminal cases that were filed against them,” the Immigration chief said in a statement.\\n ',\n",
       "  'Link': 'https://newsinfo.inquirer.net/1889115/bi-128-foreign-fugitives-arrested-in-2023',\n",
       "  'Summary': 'In 2023, the Bureau of Immigrants arrested 128 foreign criminals wanted for various offenses in their homeland. Nearly everyone is already deported or served time in prison after being seized with the crimes they committed. The',\n",
       "  'dateID': '20240115',\n",
       "  'newsID': '20240115-2',\n",
       "  'CreationDate': '2024-01-16T21:13:35.040761'},\n",
       " {'Title': 'Advincula warns public vs online scammers',\n",
       "  'Content': '\\n MANILA, Philippines — Manila Archbishop Jose Cardinal Advincula does not endorse, much less sell, health supplements, the Archdiocese of Manila warned the public on Sunday after the discovery of social media scammers using the cardinal’s name.\\n “The FB account with the name Jose F. Cardinal Advincula is not an official account nor in any way connected to the Archbishop of Manila,” Fr. Roy Bellen of the Office of Communications announced over the weekend on the archdiocese’s official Facebook account.\\n “Please help us report this account that misrepresents the Cardinal and is sadly only being used to sell products for profit,” he added. The bogus Facebook account that claimed to have nearly 570,000 followers has been taken down.\\n ',\n",
       "  'Link': 'https://newsinfo.inquirer.net/1889098/advincula-warns-public-vs-online-scammers',\n",
       "  'Summary': \"The Archbishop has a new name for himself: Jose F. Advinculo. He's not an official Cardinal, but he's used to selling health products for profit. The Archdiocese says it's\",\n",
       "  'dateID': '20240115',\n",
       "  'newsID': '20240115-1',\n",
       "  'CreationDate': '2024-01-16T21:13:35.040761'}]"
      ]
     },
     "execution_count": 19,
     "metadata": {},
     "output_type": "execute_result"
    }
   ],
   "source": [
    "news_data_final"
   ]
  },
  {
   "cell_type": "code",
   "execution_count": 20,
   "metadata": {},
   "outputs": [],
   "source": [
    "from boto3 import resource\n",
    "from boto3.dynamodb.conditions import Key\n",
    "\n",
    "news_nosql_db = resource(\"dynamodb\").Table(\"news-data-last3days\")"
   ]
  },
  {
   "cell_type": "code",
   "execution_count": 21,
   "metadata": {},
   "outputs": [],
   "source": [
    "def insert_news(news_data_list: list) -> None:\n",
    "    \"\"\"Inserts one news record in DynamoDB table.\n",
    "\n",
    "    Parameters\n",
    "    ----------\n",
    "    news_data_list : list\n",
    "        List of dictionaries with all key-value pairs of a news.\n",
    "    \"\"\"\n",
    "    print(\"Inserting news...\")\n",
    "    for news_data in news_data_list:\n",
    "        # Insert 1 news\n",
    "        response = news_nosql_db.put_item(Item=news_data)\n",
    "        print(response)\n",
    "\n",
    "    return print(\"Done insert!\")"
   ]
  },
  {
   "cell_type": "code",
   "execution_count": 22,
   "metadata": {},
   "outputs": [],
   "source": [
    "def batch_delete_old_news(news_to_delete: list) -> None:\n",
    "    \"\"\"Delete old newsID records in DynamoDB table by batch to clear storage.\n",
    "\n",
    "    Parameters\n",
    "    ----------\n",
    "    news_to_delete : list\n",
    "        List of dictionaries with dateID and newsID of records to be deleted.\n",
    "    \"\"\"\n",
    "    print(\"Deleting old news...\")\n",
    "    # Break out if input is empty\n",
    "    if not news_to_delete:\n",
    "        return print(\"No news to delete.\")\n",
    "\n",
    "    response = {}\n",
    "    # NOTE - batch delete is better if Partition Key + Sort Key pair is not unique\n",
    "    # Overkill if each batch is a unique record but this is the only available method\n",
    "    with news_nosql_db.batch_writer() as batch:\n",
    "        for news_data in news_to_delete:\n",
    "            # Delete 1 news\n",
    "            part_key = news_data[\"dateID\"]\n",
    "            sort_key = news_data[\"newsID\"]\n",
    "            response = batch.delete_item(Key={\"dateID\": part_key, \"newsID\": sort_key})\n",
    "            print(f\"dateID:{part_key} newsID:{sort_key} || {response}\")\n",
    "\n",
    "    # Check if the dateIDs were successfully deleted\n",
    "    print(\"Scanning again the updated table...\")\n",
    "    response_whole_db = news_nosql_db.scan()\n",
    "    remaining_dateIDs = set([item[\"dateID\"] for item in response_whole_db[\"Items\"]])\n",
    "    deleted_dateIDs = set([news[\"dateID\"] for news in news_to_delete])\n",
    "\n",
    "    assert remaining_dateIDs.isdisjoint(\n",
    "        deleted_dateIDs\n",
    "    ), \"Not all dateIDs were deleted!\"\n",
    "\n",
    "    return print(\"Done deletion!\")"
   ]
  },
  {
   "cell_type": "code",
   "execution_count": 23,
   "metadata": {},
   "outputs": [],
   "source": [
    "def count_news_with_dateID(news_dateID: str) -> int:\n",
    "    \"\"\"Returns the number of news with Partition Key of dateID\n",
    "\n",
    "    Parameters\n",
    "    ----------\n",
    "    news_dateID : str\n",
    "        dateID key to query in DynamoDB table.\n",
    "\n",
    "    Returns\n",
    "    -------\n",
    "    int\n",
    "        Total number of news with dateID Partition key.\n",
    "    \"\"\"\n",
    "    # Query records with dateID as key\n",
    "    response = {}\n",
    "    filtering_exp = Key(\"dateID\").eq(news_dateID)\n",
    "    response = news_nosql_db.query(KeyConditionExpression=filtering_exp)\n",
    "\n",
    "    # Count records\n",
    "    news_list = response[\"Items\"]\n",
    "    total_news = len(news_list)\n",
    "    return total_news"
   ]
  },
  {
   "cell_type": "code",
   "execution_count": 24,
   "metadata": {},
   "outputs": [],
   "source": [
    "def get_old_news_to_delete(days_to_keep: int = 3) -> list:\n",
    "    \"\"\"Returns unique dateIDs of old news in DynamoDB table that will be deleted to maintain limited storage.\n",
    "\n",
    "    Parameters\n",
    "    ----------\n",
    "    days_to_keep : int, optional\n",
    "        Number of days to look back to get min date to keep, by default 3.\n",
    "\n",
    "    Returns\n",
    "    -------\n",
    "    list\n",
    "        Contains dictionary of news to be deleted with Partition Key dateID and Sort Key newsID.\n",
    "    \"\"\"\n",
    "    # Get min dateID to keep in table\n",
    "    min_date_stored = TODAY + timedelta(-days_to_keep)\n",
    "    min_date_id = min_date_stored.strftime(\"%Y%m%d\")\n",
    "\n",
    "    # Scan entire table\n",
    "    print(\"Scanning the entire table...\")\n",
    "    response_whole_db = news_nosql_db.scan()\n",
    "    # Get all dateIDs so far\n",
    "    old_dateIDs = set([item[\"dateID\"] for item in response_whole_db[\"Items\"]])\n",
    "    # Select dateIDs for deletion\n",
    "    delete_dateIDs = [dateID for dateID in old_dateIDs if dateID < min_date_id]\n",
    "    print(\"Done retrieving dateIDs \\n\")\n",
    "\n",
    "    # Get newsID to be deleted per dateID\n",
    "    print(\"Generating newsIDs to delete...\")\n",
    "    news_to_delete = []\n",
    "    for dateID in delete_dateIDs:\n",
    "        total_news = count_news_with_dateID(news_dateID=dateID)\n",
    "        # Generate newsID based on logic of how it was made before using total record count\n",
    "        newsID_list = [\n",
    "            {\"dateID\": dateID, \"newsID\": dateID + \"-\" + str(idx + 1)}\n",
    "            for idx in range(total_news)\n",
    "        ]\n",
    "        news_to_delete += newsID_list\n",
    "\n",
    "    if not news_to_delete:\n",
    "        warnings.warn(\"No old records were found.\", Warning)\n",
    "    else:\n",
    "        print(\"Done!\")\n",
    "\n",
    "    return news_to_delete"
   ]
  },
  {
   "cell_type": "markdown",
   "metadata": {},
   "source": [
    "**INSERT news (as of prev day) scraped today**"
   ]
  },
  {
   "cell_type": "code",
   "execution_count": 25,
   "metadata": {},
   "outputs": [
    {
     "name": "stdout",
     "output_type": "stream",
     "text": [
      "Inserting news...\n",
      "{'ResponseMetadata': {'RequestId': '3M0LSC89M8DKEANJT35FEHE4C3VV4KQNSO5AEMVJF66Q9ASUAAJG', 'HTTPStatusCode': 200, 'HTTPHeaders': {'server': 'Server', 'date': 'Tue, 16 Jan 2024 13:15:21 GMT', 'content-type': 'application/x-amz-json-1.0', 'content-length': '2', 'connection': 'keep-alive', 'x-amzn-requestid': '3M0LSC89M8DKEANJT35FEHE4C3VV4KQNSO5AEMVJF66Q9ASUAAJG', 'x-amz-crc32': '2745614147'}, 'RetryAttempts': 0}}\n",
      "{'ResponseMetadata': {'RequestId': 'S9RH4NPV7GLDL30HDRO1GS8GS3VV4KQNSO5AEMVJF66Q9ASUAAJG', 'HTTPStatusCode': 200, 'HTTPHeaders': {'server': 'Server', 'date': 'Tue, 16 Jan 2024 13:15:21 GMT', 'content-type': 'application/x-amz-json-1.0', 'content-length': '2', 'connection': 'keep-alive', 'x-amzn-requestid': 'S9RH4NPV7GLDL30HDRO1GS8GS3VV4KQNSO5AEMVJF66Q9ASUAAJG', 'x-amz-crc32': '2745614147'}, 'RetryAttempts': 0}}\n",
      "{'ResponseMetadata': {'RequestId': 'M4C1BVJQFC2UPI0JIVMMJMEH1RVV4KQNSO5AEMVJF66Q9ASUAAJG', 'HTTPStatusCode': 200, 'HTTPHeaders': {'server': 'Server', 'date': 'Tue, 16 Jan 2024 13:15:22 GMT', 'content-type': 'application/x-amz-json-1.0', 'content-length': '2', 'connection': 'keep-alive', 'x-amzn-requestid': 'M4C1BVJQFC2UPI0JIVMMJMEH1RVV4KQNSO5AEMVJF66Q9ASUAAJG', 'x-amz-crc32': '2745614147'}, 'RetryAttempts': 0}}\n",
      "{'ResponseMetadata': {'RequestId': '8P7CT7D3ACKOP1EEPD4TNM4BRFVV4KQNSO5AEMVJF66Q9ASUAAJG', 'HTTPStatusCode': 200, 'HTTPHeaders': {'server': 'Server', 'date': 'Tue, 16 Jan 2024 13:15:22 GMT', 'content-type': 'application/x-amz-json-1.0', 'content-length': '2', 'connection': 'keep-alive', 'x-amzn-requestid': '8P7CT7D3ACKOP1EEPD4TNM4BRFVV4KQNSO5AEMVJF66Q9ASUAAJG', 'x-amz-crc32': '2745614147'}, 'RetryAttempts': 0}}\n",
      "{'ResponseMetadata': {'RequestId': '48RS30OLBCRBOL97MD1L4MEM9JVV4KQNSO5AEMVJF66Q9ASUAAJG', 'HTTPStatusCode': 200, 'HTTPHeaders': {'server': 'Server', 'date': 'Tue, 16 Jan 2024 13:15:22 GMT', 'content-type': 'application/x-amz-json-1.0', 'content-length': '2', 'connection': 'keep-alive', 'x-amzn-requestid': '48RS30OLBCRBOL97MD1L4MEM9JVV4KQNSO5AEMVJF66Q9ASUAAJG', 'x-amz-crc32': '2745614147'}, 'RetryAttempts': 0}}\n",
      "{'ResponseMetadata': {'RequestId': '1QG8DFJC88NGPH218BICGQE3JVVV4KQNSO5AEMVJF66Q9ASUAAJG', 'HTTPStatusCode': 200, 'HTTPHeaders': {'server': 'Server', 'date': 'Tue, 16 Jan 2024 13:15:23 GMT', 'content-type': 'application/x-amz-json-1.0', 'content-length': '2', 'connection': 'keep-alive', 'x-amzn-requestid': '1QG8DFJC88NGPH218BICGQE3JVVV4KQNSO5AEMVJF66Q9ASUAAJG', 'x-amz-crc32': '2745614147'}, 'RetryAttempts': 0}}\n",
      "{'ResponseMetadata': {'RequestId': 'OEMIN0TV0O9NR167DC6NQH09UVVV4KQNSO5AEMVJF66Q9ASUAAJG', 'HTTPStatusCode': 200, 'HTTPHeaders': {'server': 'Server', 'date': 'Tue, 16 Jan 2024 13:15:23 GMT', 'content-type': 'application/x-amz-json-1.0', 'content-length': '2', 'connection': 'keep-alive', 'x-amzn-requestid': 'OEMIN0TV0O9NR167DC6NQH09UVVV4KQNSO5AEMVJF66Q9ASUAAJG', 'x-amz-crc32': '2745614147'}, 'RetryAttempts': 0}}\n",
      "Done insert!\n"
     ]
    }
   ],
   "source": [
    "insert_news(news_data_list=news_data_final)"
   ]
  },
  {
   "cell_type": "markdown",
   "metadata": {},
   "source": [
    "**QUERY old news beyond 3 days ago**"
   ]
  },
  {
   "cell_type": "code",
   "execution_count": 26,
   "metadata": {},
   "outputs": [
    {
     "name": "stdout",
     "output_type": "stream",
     "text": [
      "Scanning the entire table...\n",
      "Done retrieving dateIDs \n",
      "\n",
      "Generating newsIDs to delete...\n",
      "Done!\n"
     ]
    },
    {
     "data": {
      "text/plain": [
       "[{'dateID': '20240111', 'newsID': '20240111-1'},\n",
       " {'dateID': '20240111', 'newsID': '20240111-2'},\n",
       " {'dateID': '20240111', 'newsID': '20240111-3'},\n",
       " {'dateID': '20240111', 'newsID': '20240111-4'},\n",
       " {'dateID': '20240111', 'newsID': '20240111-5'},\n",
       " {'dateID': '20240111', 'newsID': '20240111-6'},\n",
       " {'dateID': '20240111', 'newsID': '20240111-7'},\n",
       " {'dateID': '20240112', 'newsID': '20240112-1'},\n",
       " {'dateID': '20240112', 'newsID': '20240112-2'},\n",
       " {'dateID': '20240112', 'newsID': '20240112-3'},\n",
       " {'dateID': '20240112', 'newsID': '20240112-4'},\n",
       " {'dateID': '20240112', 'newsID': '20240112-5'},\n",
       " {'dateID': '20240112', 'newsID': '20240112-6'},\n",
       " {'dateID': '20240112', 'newsID': '20240112-7'},\n",
       " {'dateID': '20240112', 'newsID': '20240112-8'},\n",
       " {'dateID': '20240112', 'newsID': '20240112-9'}]"
      ]
     },
     "execution_count": 26,
     "metadata": {},
     "output_type": "execute_result"
    }
   ],
   "source": [
    "news_to_delete = get_old_news_to_delete()\n",
    "news_to_delete"
   ]
  },
  {
   "cell_type": "markdown",
   "metadata": {},
   "source": [
    "**DELETE old news beyond 3 days ago**"
   ]
  },
  {
   "cell_type": "code",
   "execution_count": 27,
   "metadata": {},
   "outputs": [
    {
     "name": "stdout",
     "output_type": "stream",
     "text": [
      "Deleting old news...\n",
      "dateID:20240111 newsID:20240111-1 || None\n",
      "dateID:20240111 newsID:20240111-2 || None\n",
      "dateID:20240111 newsID:20240111-3 || None\n",
      "dateID:20240111 newsID:20240111-4 || None\n",
      "dateID:20240111 newsID:20240111-5 || None\n",
      "dateID:20240111 newsID:20240111-6 || None\n",
      "dateID:20240111 newsID:20240111-7 || None\n",
      "dateID:20240112 newsID:20240112-1 || None\n",
      "dateID:20240112 newsID:20240112-2 || None\n",
      "dateID:20240112 newsID:20240112-3 || None\n",
      "dateID:20240112 newsID:20240112-4 || None\n",
      "dateID:20240112 newsID:20240112-5 || None\n",
      "dateID:20240112 newsID:20240112-6 || None\n",
      "dateID:20240112 newsID:20240112-7 || None\n",
      "dateID:20240112 newsID:20240112-8 || None\n",
      "dateID:20240112 newsID:20240112-9 || None\n",
      "Scanning again the updated table...\n",
      "Done deletion!\n"
     ]
    }
   ],
   "source": [
    "batch_delete_old_news(news_to_delete=news_to_delete)"
   ]
  },
  {
   "cell_type": "code",
   "execution_count": null,
   "metadata": {},
   "outputs": [],
   "source": []
  }
 ],
 "metadata": {
  "kernelspec": {
   "display_name": "base",
   "language": "python",
   "name": "python3"
  },
  "language_info": {
   "codemirror_mode": {
    "name": "ipython",
    "version": 3
   },
   "file_extension": ".py",
   "mimetype": "text/x-python",
   "name": "python",
   "nbconvert_exporter": "python",
   "pygments_lexer": "ipython3",
   "version": "3.10.9"
  },
  "orig_nbformat": 4
 },
 "nbformat": 4,
 "nbformat_minor": 2
}
